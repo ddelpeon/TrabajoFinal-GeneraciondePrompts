{
 "cells": [
  {
   "cell_type": "markdown",
   "metadata": {},
   "source": [
    "# Trabajo Final: Explorador IA: Guía Personalizada de Viajes usando OpenAI GPT-4 y DALL-E\n",
    "\n",
    "## Resumen\n",
    "\n",
    "El objetivo de este proyecto es desarrollar un sistema que genere un perfil de viajero basado en sus gustos y preferencias de viaje y dado un detino, periodo de tiempo y presupuesto devuelven itinerarios personalizados por día. Sugerencias gastronómicas, actividades locales únicas, tips de seguridad y transporte y opcionalemente frases útiles en el idioma local.\n",
    "En esta POC Utilizaremos la API de OpenAI para GPT-4 para generar una recomendacion de itinerario luego la API de DALL-E generar una imagen descriptiva.\n",
    "\n",
    "## Índice\n",
    "\n",
    "1. Introducción\n",
    "2. Objetivos\n",
    "3. Metodología\n",
    "4. Herramientas y Tecnologías\n",
    "5. Implementación\n",
    "6. Resultados\n",
    "7. Conclusiones\n",
    "8. Referencias\n",
    "\n",
    "### 1. Introducción\n",
    "\n",
    "Muchas personas que planifican viajes no encuentran recomendaciones adaptadas a sus intereses específicos (aventura, comida, arte, descanso, etc.). Las guías tradicionales son generales y no personalizadas.\n",
    "Esto puede generar pérdida de tiempo, frustración o experiencias poco satisfactorias.\n",
    "\n",
    "### 2. Objetivos\n",
    "\n",
    "- Generar una descripción textual que devuelven itinerarios personalizados por día, sugerencias gastronómicas, actividades locales únicas, tips de seguridad y transporte.\n",
    "Opcional: frases útiles en el idioma local.\n",
    "\n",
    "- Convertir la descripción textual en una imagen utilizando DALL-E.\n",
    "    •\tPrompts que ilustran los lugares sugeridos en la guía (playas, calles, comida, actividades).\n",
    "    •\tImágenes para representar distintos tipos de viajeros (mochilero, familia, pareja, etc.).\n",
    "  \n",
    "### 3. Metodología\n",
    "\n",
    "1. Recopilación de Datos: Obtener información sobre el perfil del viajero (intereses, presupuesto, clima deseado, duración del viaje, si viaja solo o acompañado).\n",
    "2. Procesamiento de Texto: Utilizar GPT-4 para generar una descripción textual de itinerarios personalizados sugeridos.\n",
    "3. Generación de Imagen: Utilizar DALL-E para convertir la descripción en una imagen.\n",
    "\n",
    "### 4. Herramientas y Tecnologías\n",
    "\n",
    "- Python\n",
    "- OpenAI GPT-4 API\n",
    "- OpenAI DALL-E API\n",
    "\n"
   ]
  },
  {
   "cell_type": "markdown",
   "metadata": {},
   "source": [
    "### 5. Implementación\n",
    "    1. Se deben insalar las bibliotecas de Phyton ejecutando desde una celda:\n",
    "    •\t!pip install python-dotenv\n",
    "    •\t!pip install openai requests\n",
    "    •\topenai-0.28.0\n",
    "    •\topenai-1.84.0\n",
    "    2. Se debe crear un archivo .env en el directorio de trabajo local con el siguiente contenido:\n",
    "- API_KEY_GEMINI=tu_api_key_aqui  \n",
    "- OPENAI_API_KEY=tu_api_key_aqui\n",
    "\n"
   ]
  },
  {
   "cell_type": "code",
   "execution_count": 24,
   "metadata": {},
   "outputs": [
    {
     "name": "stdout",
     "output_type": "stream",
     "text": [
      "Requirement already satisfied: openai in c:\\users\\damian\\.conda\\envs\\curso2025\\lib\\site-packages (0.28.0)\n",
      "Collecting openai\n",
      "  Downloading openai-1.84.0-py3-none-any.whl.metadata (25 kB)\n",
      "Requirement already satisfied: anyio<5,>=3.5.0 in c:\\users\\damian\\.conda\\envs\\curso2025\\lib\\site-packages (from openai) (4.9.0)\n",
      "Requirement already satisfied: distro<2,>=1.7.0 in c:\\users\\damian\\.conda\\envs\\curso2025\\lib\\site-packages (from openai) (1.9.0)\n",
      "Requirement already satisfied: httpx<1,>=0.23.0 in c:\\users\\damian\\.conda\\envs\\curso2025\\lib\\site-packages (from openai) (0.28.1)\n",
      "Requirement already satisfied: jiter<1,>=0.4.0 in c:\\users\\damian\\.conda\\envs\\curso2025\\lib\\site-packages (from openai) (0.9.0)\n",
      "Requirement already satisfied: pydantic<3,>=1.9.0 in c:\\users\\damian\\.conda\\envs\\curso2025\\lib\\site-packages (from openai) (2.11.3)\n",
      "Requirement already satisfied: sniffio in c:\\users\\damian\\.conda\\envs\\curso2025\\lib\\site-packages (from openai) (1.3.1)\n",
      "Requirement already satisfied: tqdm>4 in c:\\users\\damian\\.conda\\envs\\curso2025\\lib\\site-packages (from openai) (4.67.1)\n",
      "Requirement already satisfied: typing-extensions<5,>=4.11 in c:\\users\\damian\\.conda\\envs\\curso2025\\lib\\site-packages (from openai) (4.13.1)\n",
      "Requirement already satisfied: exceptiongroup>=1.0.2 in c:\\users\\damian\\.conda\\envs\\curso2025\\lib\\site-packages (from anyio<5,>=3.5.0->openai) (1.2.2)\n",
      "Requirement already satisfied: idna>=2.8 in c:\\users\\damian\\.conda\\envs\\curso2025\\lib\\site-packages (from anyio<5,>=3.5.0->openai) (3.10)\n",
      "Requirement already satisfied: certifi in c:\\users\\damian\\.conda\\envs\\curso2025\\lib\\site-packages (from httpx<1,>=0.23.0->openai) (2025.1.31)\n",
      "Requirement already satisfied: httpcore==1.* in c:\\users\\damian\\.conda\\envs\\curso2025\\lib\\site-packages (from httpx<1,>=0.23.0->openai) (1.0.7)\n",
      "Requirement already satisfied: h11<0.15,>=0.13 in c:\\users\\damian\\.conda\\envs\\curso2025\\lib\\site-packages (from httpcore==1.*->httpx<1,>=0.23.0->openai) (0.14.0)\n",
      "Requirement already satisfied: annotated-types>=0.6.0 in c:\\users\\damian\\.conda\\envs\\curso2025\\lib\\site-packages (from pydantic<3,>=1.9.0->openai) (0.7.0)\n",
      "Requirement already satisfied: pydantic-core==2.33.1 in c:\\users\\damian\\.conda\\envs\\curso2025\\lib\\site-packages (from pydantic<3,>=1.9.0->openai) (2.33.1)\n",
      "Requirement already satisfied: typing-inspection>=0.4.0 in c:\\users\\damian\\.conda\\envs\\curso2025\\lib\\site-packages (from pydantic<3,>=1.9.0->openai) (0.4.0)\n",
      "Requirement already satisfied: colorama in c:\\users\\damian\\.conda\\envs\\curso2025\\lib\\site-packages (from tqdm>4->openai) (0.4.6)\n",
      "Downloading openai-1.84.0-py3-none-any.whl (725 kB)\n",
      "   ---------------------------------------- 0.0/725.5 kB ? eta -:--:--\n",
      "   --------------------------------------- 725.5/725.5 kB 14.5 MB/s eta 0:00:00\n",
      "Installing collected packages: openai\n",
      "  Attempting uninstall: openai\n",
      "    Found existing installation: openai 0.28.0\n",
      "    Uninstalling openai-0.28.0:\n",
      "      Successfully uninstalled openai-0.28.0\n",
      "Successfully installed openai-1.84.0\n"
     ]
    }
   ],
   "source": [
    "#!pip install python-dotenv\n",
    "#!pip install openai requests\n",
    "#!pip install --upgrade openai"
   ]
  },
  {
   "cell_type": "code",
   "execution_count": 45,
   "metadata": {},
   "outputs": [
    {
     "name": "stdout",
     "output_type": "stream",
     "text": [
      "API Key cargada: sk-s...\n"
     ]
    }
   ],
   "source": [
    "import os\n",
    "from dotenv import load_dotenv\n",
    "import openai\n",
    "import requests\n",
    "\n",
    "load_dotenv()  # Carga el archivo .env\n",
    "OPENAI_API_KEY  = os.getenv(\"OPENAI_API_KEY \")\n",
    "\n",
    "print(\"API Key cargada:\", API_KEY[:4] + \"...\" if API_KEY else \"No se pudo cargar.\")\n",
    "openai.api_key = API_KEY\n",
    "client = openai.OpenAI() # Usa api_key automáticamente desde la variable de entorno OPENAI_API_KEY\n"
   ]
  },
  {
   "cell_type": "code",
   "execution_count": 61,
   "metadata": {},
   "outputs": [],
   "source": [
    "def openai_chat_gpt4(system, prompt):\n",
    "\n",
    "\n",
    "    response = client.chat.completions.create(\n",
    "        model=\"gpt-4.1\",\n",
    "        messages=[\n",
    "            {\"role\": \"system\", \"content\": system},\n",
    "            {\"role\": \"user\", \"content\": prompt}\n",
    "        ]\n",
    "    )\n",
    "    \n",
    "    return response.choices[0].message.content\n",
    "\n",
    "def openai_image_prof(prompt):\n",
    "    for attempt in range(3):\n",
    "        try:\n",
    "            response = client.images.generate(\n",
    "                model=\"dall-e-3\",\n",
    "                prompt=prompt,\n",
    "                size=\"1024x1024\",\n",
    "                quality=\"hd\",  # Opcional: 'hd' para más detalle\n",
    "                n=1\n",
    "            )\n",
    "            return response.data[0].url\n",
    "        except RateLimitError:\n",
    "            print(\"🚦 Límite de uso alcanzado. Reintentando en 5 segundos...\")\n",
    "            time.sleep(5)\n",
    "    return \"❌ No se pudo generar la imagen tras varios intentos.\"\n",
    "    \n"
   ]
  },
  {
   "cell_type": "code",
   "execution_count": 79,
   "metadata": {},
   "outputs": [],
   "source": [
    "prompt=\"\"\"Eres una guia turistico especializado en personalizar viejes para perfiles de viajeros especificos. Deberas proponer una rutina personalizada para un viajero.\n",
    "La rutina debe especificar que hacer cada dia y debe considerar los tiempos que demanda cada actividad inclusive los tiempos de traslado para que sea realizable en el dia.\n",
    "Si las actividades incluyen lugares especificos para visitar se debe tener en cuenta sus horarios de apertura y cierre para que la visita sea exitosa.\n",
    "Si se incluyen traslados se debe indicar que medio de transporte se recomienda para el traslado o si puede hacerse caminando indicando los tiempos aproximados.\n",
    "Al final de cada dia se debe indicar el costo aproximado en dolares o euros en caso de destinos de europa de las actividades programadas para el dia y los traslados si los hubiere.\n",
    "Nuestros viajeros deben contar con reserva de alojamiento para aprovechar el dia por tanto antes de iniciar las rutinas diaria debes especificar en que zona seria recomendable que el viajero reserve su alojamiento para aprovechar al maximo los dias considerando un minimo de 3 noches en cada alojamiento.\n",
    "Evitar repreguntar en la respuesta.\n",
    "Nuestro viajero tiene las siguientes caracteristicas: \"\"\"\n",
    "texto=\"Sexo: Femenino. Edad: 40. Viaja con: 2 Amigas. Preferencias: Caminar y visitar lugares, mezclarse con la cultura del lugar, gastronomia, lugares tipicos. Cantidad de dias: 5. Destino/Destinos: Austria, Budapest. Presupuesto: 1000 Euros, excluyendo alojamiento, pero incluyendo el costo de traslado. El viajero inicia su paseo al llegar a Viena.\"\n",
    "salida= openai_chat_gpt4(prompt,texto)"
   ]
  },
  {
   "cell_type": "code",
   "execution_count": 80,
   "metadata": {},
   "outputs": [
    {
     "name": "stdout",
     "output_type": "stream",
     "text": [
      "¡Perfecto! A continuación encontrarás una propuesta de rutina personalizada para ti y tus amigas, considerando tus intereses en caminatas, cultura local y gastronomía, así como una experiencia auténtica en Austria y Budapest. El itinerario equilibra la visita a sitios emblemáticos, tiempo para disfrutar la ciudad a pie y espacios para descubrir la gastronomía y cultura local, optimizando los traslados y el uso del tiempo disponible dentro de tu presupuesto.\n",
      "\n",
      "---\n",
      "\n",
      "## **Recomendación de alojamientos**\n",
      "\n",
      "**Viena:** Reserva tu alojamiento en la zona de Innere Stadt (1er distrito), ideal para moverse caminando a la mayoría de atractivos principales, buena conexión a transporte y ambiente vibrante.\n",
      "**Budapest:** Zona recomendada: Distrito V (Belváros-Lipótváros), cerca del Danubio, el Parlamento, zonas peatonales y con fácil acceso a los puntos turísticos y gastronómicos.\n",
      "\n",
      "---\n",
      "\n",
      "## **Itinerario Día a Día**\n",
      "\n",
      "### **Día 1: Llegada y primer recorrido por Viena**\n",
      "- **08:00-12:00:** Llegada a Viena e instalación en el alojamiento en Innere Stadt.\n",
      "- **12:00-13:00:** Almuerzo típico austríaco en “Gasthaus Pöschl” (menú aprox. 18€).\n",
      "- **13:00-15:00:** Recorrido a pie por el centro histórico: Stephansdom, Graben, Kohlmarkt.\n",
      "- **15:00-17:00:** Café y pastel en Demel o Café Central (merienda 10€).\n",
      "- **17:00-19:00:** Paseo hacia la Ópera y el MuseumsQuartier, disfrutando plazas y ambiente local.\n",
      "- **19:00-21:00:** Cena en el Naschmarkt (degustación de platos locales, aprox. 25€).\n",
      "- **21:00:** Regreso caminando al alojamiento.\n",
      "\n",
      "**Transporte**: Todo a pie (máx. 10-15 min entre actividades).\n",
      "**Costo total estimado:** 53€ por persona.\n",
      "\n",
      "---\n",
      "\n",
      "### **Día 2: Viena imperial, modernos y cultura**\n",
      "- **08:00-09:30:** Frühstück (desayuno) en “Café Sperl” (10€).\n",
      "- **09:30-12:30:** Visita al Palacio de Schönbrunn (entrada clásica: 24€, metro U4 hasta Schönbrunn, 2.40€ ida/vuelta).\n",
      "- **13:00-14:30:** Almuerzo en “Glacis Beisl” en MuseumsQuartier (20€).\n",
      "- **15:00-17:00:** Visita al Barrio de los Museos (Museo Leopold, entrada 16€).\n",
      "- **17:00-19:00:** Paseo por Mariahilfer Strasse (zona comercial y bares de moda).\n",
      "- **19:00-21:00:** Cena y vino en heuriger moderno como “Heuriger Mayer am Pfarrplatz” (25€, trayecto en tranvía: 2.40€ ida/vuelta).\n",
      "- **21:00:** Regreso en tranvía (15 min) o taxi según preferencia.\n",
      "\n",
      "**Transporte:** Metro/tranvía, caminatas.\n",
      "**Costo total estimado:** 100€\n",
      "\n",
      "---\n",
      "\n",
      "### **Día 3: Viena autóctona y tarde rumbo a Budapest**\n",
      "- **08:00-09:00:** Desayuno ligero en panadería local (6€).\n",
      "- **09:00-11:00:** Mercado Karmelitermarkt (productos regionales y artesanos, degustaciones 10€).\n",
      "- **11:00-13:00:** Paseo por el barrio de Leopoldstadt y el parque Prater (foto en la Noria, opcional 14€).\n",
      "- **13:00-14:30:** Almuerzo en “Zum Schwammerl” (18€).\n",
      "- **15:00-19:00:** Tren Railjet directo Viena-Budapest. Duración aprox. 2h 40min. Salidas entre 15:42 y 17:42. Recomendable comprar tickets con anticipación (29€/persona). Taxi o metro a la estación Wien Hauptbahnhof (3€).\n",
      "- **19:00-20:00:** Instalación en alojamiento en Distrito V, Budapest.\n",
      "- **20:30:** Cena ligera cerca del alojamiento (10€).\n",
      "\n",
      "**Transporte:** A pie, metro y tren.\n",
      "**Costo total estimado:** 90€\n",
      "\n",
      "---\n",
      "\n",
      "### **Día 4: Budapest, esencia húngara**\n",
      "- **08:00-09:00:** Desayuno en Gerlóczy Café (8€).\n",
      "- **09:00-12:00:** Recorrido guiado a pie Pest clásico: Parlamento, Basílica de San Esteban, Plaza Liberty, con degustación de pogácsa (panecillo típico, tour aprox. 15€).\n",
      "- **12:00-13:30:** Almuerzo en el Mercado Central (18€, platos húngaros auténticos).\n",
      "- **13:30-16:00:** Recorrido por el barrio judío: Ruinas bars, Sinagoga (entrada 12€), arte urbano y cafés bohemios.\n",
      "- **16:00-18:00:** Descanso termal en los Baños Széchenyi (entrada 24€), trayecto en metro: 2€.\n",
      "- **19:30:** Cena “borbíróság” (degustación de goulash y vinos húngaros, 20€, taxi 4€ de regreso).\n",
      "\n",
      "**Transporte:** Caminando y metro.\n",
      "**Costo total estimado:** 103€\n",
      "\n",
      "---\n",
      "\n",
      "### **Día 5: Buda histórica y despedida**\n",
      "- **08:00-09:00:** Desayuno en Buda, “Pest-Buda Bistro” (8€). Traslado en bus local (2€).\n",
      "- **09:00-11:30:** Recorrido por el Castillo de Buda, Bastión de los Pescadores y Iglesia de Matías (entrada Bastión 5€, bus local 2€).\n",
      "- **12:00-13:00:** Paseo en el funicular (ida: 4€) y bajada al Puente de las Cadenas.\n",
      "- **13:00-14:30:** Almuerzo vista al Danubio en “Halászbástya Restaurant” (menú 20€).\n",
      "- **15:00-16:30:** Ultimas compras y café en Váci utca o Gozsdu Udvar (10€).\n",
      "- **17:00:** Prepararse para salida o traslado a aeropuerto (taxi al aeropuerto aprox. 25€, o bus shuttle 9€).\n",
      "\n",
      "**Transporte:** Caminando y bus/local, funicular.\n",
      "**Costo total estimado:** 69€ (taxi al aeropuerto) o 53€ (shuttle).\n",
      "\n",
      "---\n",
      "\n",
      "## **Resumen de Gastos Aproximados (por persona)**\n",
      "- Día 1: 53€\n",
      "- Día 2: 100€\n",
      "- Día 3: 90€\n",
      "- Día 4: 103€\n",
      "- Día 5: 53-69€  \n",
      "**Total aproximado:** 399-415€\n",
      "\n",
      "Con este presupuesto te quedará suficiente margen para gastos extras, snacks, souvenirs o una cena especial. ¡Buen viaje y disfruta al máximo Austria y Budapest!\n"
     ]
    }
   ],
   "source": [
    "print(salida)"
   ]
  },
  {
   "cell_type": "code",
   "execution_count": 74,
   "metadata": {},
   "outputs": [],
   "source": [
    "imagen= openai_chat_gpt4(\"Voy a brindarte una lista de actividades y un perfil de viejero devuelveme unicamente el prompt para enviar al modelo dall-e-3 y generar una imagen que represente un momento de ese viaje, especifica en la descripcion que la fisionomia de los viajantes debe ser latina: \",salida+texto)"
   ]
  },
  {
   "cell_type": "code",
   "execution_count": 75,
   "metadata": {},
   "outputs": [
    {
     "name": "stdout",
     "output_type": "stream",
     "text": [
      "Tres mujeres latinas de 48 años de edad, de aspecto alegre y relajado, disfrutan juntas de un desayuno típico vienés en una elegante mesa del histórico Café Central de Viena. El ambiente es cálido y sofisticado, con grandes columnas, techos altos y vitrales, evocando la atmósfera clásica de principios del siglo XX. Afuera, se intuyen calles peatonales llenas de vida europea. Las mujeres visten ropa cómoda y moderna para caminar, se ven entusiasmadas por su día de exploración cultural en la ciudad. Asegúrate de que la fisionomía de las viajeras luzca auténticamente latina.\n"
     ]
    }
   ],
   "source": [
    "print(imagen)"
   ]
  },
  {
   "cell_type": "code",
   "execution_count": 76,
   "metadata": {},
   "outputs": [
    {
     "name": "stdout",
     "output_type": "stream",
     "text": [
      "https://oaidalleapiprodscus.blob.core.windows.net/private/org-E8thXH85ZSj9viQ3YKWloNQw/user-Z7ZhkJcBqnZTXFBboiOVlBBm/img-GwmLpKT0PMUN7Qa9zrIX0w6U.png?st=2025-06-08T13%3A13%3A17Z&se=2025-06-08T15%3A13%3A17Z&sp=r&sv=2024-08-04&sr=b&rscd=inline&rsct=image/png&skoid=475fd488-6c59-44a5-9aa9-31c4db451bea&sktid=a48cca56-e6da-484e-a814-9c849652bcb3&skt=2025-06-08T02%3A17%3A53Z&ske=2025-06-09T02%3A17%3A53Z&sks=b&skv=2024-08-04&sig=aXUA/axbO0JjcfdG2xrIKC2AlFxC44FsCo%2Bw37KPwt0%3D\n"
     ]
    }
   ],
   "source": [
    "image_url=openai_image_prof(imagen)\n",
    "print(image_url)"
   ]
  },
  {
   "cell_type": "code",
   "execution_count": 77,
   "metadata": {},
   "outputs": [
    {
     "name": "stdout",
     "output_type": "stream",
     "text": [
      "Imagen guardada como images/image_20250608_111352.png\n"
     ]
    }
   ],
   "source": [
    "from PIL import Image\n",
    "from io import BytesIO\n",
    "from datetime import datetime\n",
    "\n",
    "# Crear carpeta \"images\" si no existe\n",
    "os.makedirs(\"images\", exist_ok=True)\n",
    "\n",
    "# Obtener la imagen desde la URL\n",
    "response = requests.get(image_url)\n",
    "image = Image.open(BytesIO(response.content))\n",
    "\n",
    "# Mostrar la imagen\n",
    "image.show()\n",
    "\n",
    "# Generar nombre con fecha y hora\n",
    "timestamp = datetime.now().strftime(\"%Y%m%d_%H%M%S\")\n",
    "filename = f\"images/image_{timestamp}.png\"\n",
    "\n",
    "# Guardar imagen en carpeta \"images\"\n",
    "image.save(filename)\n",
    "print(f\"Imagen guardada como {filename}\")"
   ]
  }
 ],
 "metadata": {
  "kernelspec": {
   "display_name": "Python 3 (ipykernel)",
   "language": "python",
   "name": "python3"
  },
  "language_info": {
   "codemirror_mode": {
    "name": "ipython",
    "version": 3
   },
   "file_extension": ".py",
   "mimetype": "text/x-python",
   "name": "python",
   "nbconvert_exporter": "python",
   "pygments_lexer": "ipython3",
   "version": "3.10.16"
  }
 },
 "nbformat": 4,
 "nbformat_minor": 4
}

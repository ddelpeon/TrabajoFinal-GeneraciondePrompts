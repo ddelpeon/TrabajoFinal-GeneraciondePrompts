{
 "cells": [
  {
   "cell_type": "markdown",
   "metadata": {},
   "source": [
    "# Trabajo Final: Explorador IA: Guía Personalizada de Viajes usando OpenAI GPT-4 y DALL-E\n",
    "\n",
    "## Resumen\n",
    "\n",
    "El objetivo de este proyecto es desarrollar un sistema que genere un perfil de viajero basado en sus gustos y preferencias de viaje y dado un detino, periodo de tiempo y presupuesto devuelven itinerarios personalizados por día. Sugerencias gastronómicas, actividades locales únicas, tips de seguridad y transporte y opcionalemente frases útiles en el idioma local.\n",
    "En esta POC Utilizaremos la API de OpenAI para GPT-4 para generar una recomendacion de itinerario luego la API de DALL-E generar una imagen descriptiva.\n",
    "\n",
    "## Índice\n",
    "\n",
    "1. Introducción\n",
    "2. Objetivos\n",
    "3. Metodología\n",
    "4. Herramientas y Tecnologías\n",
    "5. Implementación\n",
    "6. Resultados\n",
    "7. Conclusiones\n",
    "8. Referencias\n",
    "\n",
    "### 1. Introducción\n",
    "\n",
    "Muchas personas que planifican viajes no encuentran recomendaciones adaptadas a sus intereses específicos (aventura, comida, arte, descanso, etc.). Las guías tradicionales son generales y no personalizadas.\n",
    "Esto puede generar pérdida de tiempo, frustración o experiencias poco satisfactorias.\n",
    "\n",
    "### 2. Objetivos\n",
    "\n",
    "- Generar una descripción textual que devuelven itinerarios personalizados por día, sugerencias gastronómicas, actividades locales únicas, tips de seguridad y transporte.\n",
    "Opcional: frases útiles en el idioma local.\n",
    "\n",
    "- Convertir la descripción textual en una imagen utilizando DALL-E.\n",
    "    •\tPrompts que ilustran los lugares sugeridos en la guía (playas, calles, comida, actividades).\n",
    "    •\tImágenes para representar distintos tipos de viajeros (mochilero, familia, pareja, etc.).\n",
    "  \n",
    "### 3. Metodología\n",
    "\n",
    "1. Recopilación de Datos: Obtener información sobre el perfil del viajero (intereses, presupuesto, clima deseado, duración del viaje, si viaja solo o acompañado).\n",
    "2. Procesamiento de Texto: Utilizar GPT-4 para generar una descripción textual de itinerarios personalizados sugeridos.\n",
    "3. Generación de Imagen: Utilizar DALL-E para convertir la descripción en una imagen.\n",
    "\n",
    "### 4. Herramientas y Tecnologías\n",
    "\n",
    "- Python\n",
    "- OpenAI GPT-4 API\n",
    "- OpenAI DALL-E API\n",
    "!pip install python-dotenv\n"
   ]
  },
  {
   "cell_type": "markdown",
   "metadata": {},
   "source": [
    "# 5. Implementación\n",
    "    1. Se deben insalar las bibliotecas de Phyton ejecutando desde una celda:\n",
    "!pip install python-dotenv\n",
    "!pip install openai requests\n",
    "openai-0.28.0\n",
    "openai-1.84.0\n",
    "    2. Se debe crear un archivo .env en el directorio de trabajo local con el siguiente contenido:\n",
    "API_KEY_GEMINI=tu_api_key_aqui  \n",
    "OPENAI_API_KEY=tu_api_key_aqui\n",
    "\n",
    "# Inicializar GPT-4\n",
    "\n"
   ]
  },
  {
   "cell_type": "code",
   "execution_count": 24,
   "metadata": {},
   "outputs": [
    {
     "name": "stdout",
     "output_type": "stream",
     "text": [
      "Requirement already satisfied: openai in c:\\users\\damian\\.conda\\envs\\curso2025\\lib\\site-packages (0.28.0)\n",
      "Collecting openai\n",
      "  Downloading openai-1.84.0-py3-none-any.whl.metadata (25 kB)\n",
      "Requirement already satisfied: anyio<5,>=3.5.0 in c:\\users\\damian\\.conda\\envs\\curso2025\\lib\\site-packages (from openai) (4.9.0)\n",
      "Requirement already satisfied: distro<2,>=1.7.0 in c:\\users\\damian\\.conda\\envs\\curso2025\\lib\\site-packages (from openai) (1.9.0)\n",
      "Requirement already satisfied: httpx<1,>=0.23.0 in c:\\users\\damian\\.conda\\envs\\curso2025\\lib\\site-packages (from openai) (0.28.1)\n",
      "Requirement already satisfied: jiter<1,>=0.4.0 in c:\\users\\damian\\.conda\\envs\\curso2025\\lib\\site-packages (from openai) (0.9.0)\n",
      "Requirement already satisfied: pydantic<3,>=1.9.0 in c:\\users\\damian\\.conda\\envs\\curso2025\\lib\\site-packages (from openai) (2.11.3)\n",
      "Requirement already satisfied: sniffio in c:\\users\\damian\\.conda\\envs\\curso2025\\lib\\site-packages (from openai) (1.3.1)\n",
      "Requirement already satisfied: tqdm>4 in c:\\users\\damian\\.conda\\envs\\curso2025\\lib\\site-packages (from openai) (4.67.1)\n",
      "Requirement already satisfied: typing-extensions<5,>=4.11 in c:\\users\\damian\\.conda\\envs\\curso2025\\lib\\site-packages (from openai) (4.13.1)\n",
      "Requirement already satisfied: exceptiongroup>=1.0.2 in c:\\users\\damian\\.conda\\envs\\curso2025\\lib\\site-packages (from anyio<5,>=3.5.0->openai) (1.2.2)\n",
      "Requirement already satisfied: idna>=2.8 in c:\\users\\damian\\.conda\\envs\\curso2025\\lib\\site-packages (from anyio<5,>=3.5.0->openai) (3.10)\n",
      "Requirement already satisfied: certifi in c:\\users\\damian\\.conda\\envs\\curso2025\\lib\\site-packages (from httpx<1,>=0.23.0->openai) (2025.1.31)\n",
      "Requirement already satisfied: httpcore==1.* in c:\\users\\damian\\.conda\\envs\\curso2025\\lib\\site-packages (from httpx<1,>=0.23.0->openai) (1.0.7)\n",
      "Requirement already satisfied: h11<0.15,>=0.13 in c:\\users\\damian\\.conda\\envs\\curso2025\\lib\\site-packages (from httpcore==1.*->httpx<1,>=0.23.0->openai) (0.14.0)\n",
      "Requirement already satisfied: annotated-types>=0.6.0 in c:\\users\\damian\\.conda\\envs\\curso2025\\lib\\site-packages (from pydantic<3,>=1.9.0->openai) (0.7.0)\n",
      "Requirement already satisfied: pydantic-core==2.33.1 in c:\\users\\damian\\.conda\\envs\\curso2025\\lib\\site-packages (from pydantic<3,>=1.9.0->openai) (2.33.1)\n",
      "Requirement already satisfied: typing-inspection>=0.4.0 in c:\\users\\damian\\.conda\\envs\\curso2025\\lib\\site-packages (from pydantic<3,>=1.9.0->openai) (0.4.0)\n",
      "Requirement already satisfied: colorama in c:\\users\\damian\\.conda\\envs\\curso2025\\lib\\site-packages (from tqdm>4->openai) (0.4.6)\n",
      "Downloading openai-1.84.0-py3-none-any.whl (725 kB)\n",
      "   ---------------------------------------- 0.0/725.5 kB ? eta -:--:--\n",
      "   --------------------------------------- 725.5/725.5 kB 14.5 MB/s eta 0:00:00\n",
      "Installing collected packages: openai\n",
      "  Attempting uninstall: openai\n",
      "    Found existing installation: openai 0.28.0\n",
      "    Uninstalling openai-0.28.0:\n",
      "      Successfully uninstalled openai-0.28.0\n",
      "Successfully installed openai-1.84.0\n"
     ]
    }
   ],
   "source": [
    "#!pip install python-dotenv\n",
    "#!pip install openai requests\n",
    "#!pip install --upgrade openai"
   ]
  },
  {
   "cell_type": "code",
   "execution_count": 13,
   "metadata": {},
   "outputs": [
    {
     "name": "stdout",
     "output_type": "stream",
     "text": [
      "API Key cargada: sk-s...\n"
     ]
    }
   ],
   "source": [
    "import os\n",
    "from dotenv import load_dotenv\n",
    "import openai\n",
    "import requests\n",
    "\n",
    "load_dotenv()  # Carga el archivo .env\n",
    "OPENAI_API_KEY  = os.getenv(\"OPENAI_API_KEY \")\n",
    "\n",
    "print(\"API Key cargada:\", API_KEY[:4] + \"...\" if API_KEY else \"No se pudo cargar.\")\n",
    "openai.api_key = API_KEY\n",
    "client = openai.OpenAI() # Usa api_key automáticamente desde la variable de entorno OPENAI_API_KEY\n"
   ]
  },
  {
   "cell_type": "code",
   "execution_count": 33,
   "metadata": {},
   "outputs": [],
   "source": [
    "def openai_chat_gpt4(system, prompt):\n",
    "\n",
    "\n",
    "    response = client.chat.completions.create(\n",
    "        model=\"gpt-3.5-turbo\",\n",
    "        messages=[\n",
    "            {\"role\": \"system\", \"content\": system},\n",
    "            {\"role\": \"user\", \"content\": prompt}\n",
    "        ]\n",
    "    )\n",
    "    \n",
    "    return response.choices[0].message.content\n",
    "\n",
    "def openai_image_prof(prompt):\n",
    "    for attempt in range(3):\n",
    "        try:\n",
    "            response = client.images.generate(\n",
    "                model=\"dall-e-3\",\n",
    "                prompt=prompt,\n",
    "                size=\"1024x1024\",\n",
    "                quality=\"hd\",  # Opcional: 'hd' para más detalle\n",
    "                n=1\n",
    "            )\n",
    "            return response.data[0].url\n",
    "        except RateLimitError:\n",
    "            print(\"🚦 Límite de uso alcanzado. Reintentando en 5 segundos...\")\n",
    "            time.sleep(5)\n",
    "    return \"❌ No se pudo generar la imagen tras varios intentos.\"\n",
    "    \n"
   ]
  },
  {
   "cell_type": "code",
   "execution_count": 27,
   "metadata": {},
   "outputs": [],
   "source": [
    "prompt=\"Eres una guia turistico especializo en personalizar viejes para perfiles de viajeros especificos. En no mas de 1000 palabras deberas proponer una rutina personalizada para un viajero con las siguientes caracteristicas: \"\n",
    "texto=\"Sexo: Femenino. Edad: 48. Viaja con: 2 Amigas. Preferencias: Caminar y visitar lugares, mezclarse con la cultura del lugar, gastronomia, lugares tipicos. Cantidad de dias: 5. Destino/Destinos: Austria, Budapest. Presupuesto: 1000 Euros, excluyendo alojamiento, pero incluyendo el costo de traslado. El viajero inicia su paseo al llegar a Viena.\"\n",
    "salida= openai_chat_gpt4(prompt,texto)"
   ]
  },
  {
   "cell_type": "code",
   "execution_count": 28,
   "metadata": {},
   "outputs": [
    {
     "name": "stdout",
     "output_type": "stream",
     "text": [
      "¡Bienvenida a Austria y Budapest! Ha sido un placer diseñar una ruta personalizada para ti y tus amigas, teniendo en cuenta tus preferencias y presupuesto.\n",
      "\n",
      "Día 1 - Viena:\n",
      "- Comienza tu día con un paseo por el Palacio de Schönbrunn, donde podrás sumergirte en la historia imperial de Austria.\n",
      "- Dirígete al centro de la ciudad para visitar la Catedral de San Esteban y la Ópera de Viena.\n",
      "- Por la tarde, disfruta de un paseo por el Palacio Belvedere y sus hermosos jardines.\n",
      "- No te pierdas la oportunidad de probar la deliciosa Sachertorte en el Café Sacher.\n",
      "- Finaliza el día con una cena en un Heuriger, una taberna tradicional vienesa donde podrás degustar vinos locales y platos típicos.\n",
      "\n",
      "Día 2 - Viena:\n",
      "- Empieza el día explorando el Mercado Naschmarkt, un lugar perfecto para degustar platos locales y comprar productos frescos.\n",
      "- Visita el Museo de Historia del Arte y el Museo de Historia Natural, dos de los museos más importantes de Viena.\n",
      "- Por la tarde, da un paseo por el Parque de la Ciudad y relájate junto al Estanque del Stadtpark.\n",
      "- Disfruta de una cena en un restaurante tradicional austriaco, donde podrás probar platos como el Wiener Schnitzel.\n",
      "\n",
      "Día 3 - Salida a Budapest:\n",
      "- Toma un tren o autobús a Budapest por la mañana. Aprovecha el trayecto para disfrutar del paisaje.\n",
      "- Al llegar a Budapest, dirígete a tu alojamiento y deja las maletas.\n",
      "- Explora el Barrio del Castillo de Buda, donde podrás visitar el Palacio Real y disfrutar de unas vistas impresionantes de la ciudad.\n",
      "- Por la noche, cena en una taberna húngara donde podrás probar platos tradicionales como el goulash.\n",
      "\n",
      "Día 4 - Budapest:\n",
      "- Visita el Parlamento de Budapest, uno de los edificios más emblemáticos de la ciudad.\n",
      "- Recorre la Avenida Andrássy y visita la Casa de la Ópera y la Plaza de los Héroes.\n",
      "- Disfruta de un relajante baño en unas de las famosas termas de la ciudad, como las Termas Széchenyi.\n",
      "- Por la tarde, pasea por el Mercado Central de Budapest y prueba algunos platos húngaros tradicionales.\n",
      "- Por la noche, haz un tour por los Ruin Bars de Budapest, lugares únicos donde podrás disfrutar de música en vivo y ambiente bohemio.\n",
      "\n",
      "Día 5 - Budapest:\n",
      "- Visita la Basílica de San Esteban y sube a la torre para disfrutar de una vista panorámica de la ciudad.\n",
      "- Explora el Bazar de Navidad en la Plaza Vörösmarty y compra algunos recuerdos.\n",
      "- Disfruta de un paseo en barco por el río Danubio para ver los edificios más emblemáticos de Budapest iluminados.\n",
      "- Cena en un restaurante con vistas al río Danubio para despedirte de esta hermosa ciudad.\n",
      "\n",
      "Espero que esta ruta personalizada sea de tu agrado y que disfrutes al máximo de tu viaje por Austria y Budapest. ¡Buen viaje!\n"
     ]
    }
   ],
   "source": [
    "print(salida)"
   ]
  },
  {
   "cell_type": "code",
   "execution_count": 40,
   "metadata": {},
   "outputs": [],
   "source": [
    "imagen= openai_chat_gpt4(\"Describe en no mas de 200 palabras una imagen de esta rutina: \",salida)"
   ]
  },
  {
   "cell_type": "code",
   "execution_count": 41,
   "metadata": {},
   "outputs": [
    {
     "name": "stdout",
     "output_type": "stream",
     "text": [
      "La imagen muestra a un grupo de amigas emocionadas y sonrientes mientras recorren los majestuosos palacios y edificios históricos de Viena. Se les ve degustando exquisitos platos austriacos en tabernas tradicionales y cafés emblemáticos. La escena se traslada a Budapest, donde las chicas exploran las pintorescas calles del Barrio del Castillo de Buda y se relajan en las famosas termas de la ciudad. En las noches, disfrutan de cenas en restaurantes con vistas al Danubio y se sumergen en la vibrante vida nocturna de los Ruin Bars. La imagen transmite la emoción y alegría de viajar con amigas, descubriendo nuevas culturas, sabores y experiencias juntas en un viaje inolvidable por dos de las ciudades más fascinantes de Europa Central.\n"
     ]
    }
   ],
   "source": [
    "print(imagen)"
   ]
  },
  {
   "cell_type": "code",
   "execution_count": null,
   "metadata": {},
   "outputs": [],
   "source": [
    "image_url=openai_image_prof(imagen)\n",
    "print(image_url)"
   ]
  },
  {
   "cell_type": "code",
   "execution_count": null,
   "metadata": {},
   "outputs": [],
   "source": [
    "from PIL import Image\n",
    "from io import BytesIO\n",
    "from datetime import datetime\n",
    "\n",
    "# Crear carpeta \"images\" si no existe\n",
    "os.makedirs(\"images\", exist_ok=True)\n",
    "\n",
    "# Obtener la imagen desde la URL\n",
    "response = requests.get(image_url)\n",
    "image = Image.open(BytesIO(response.content))\n",
    "\n",
    "# Mostrar la imagen\n",
    "image.show()\n",
    "\n",
    "# Generar nombre con fecha y hora\n",
    "timestamp = datetime.now().strftime(\"%Y%m%d_%H%M%S\")\n",
    "filename = f\"images/image_{timestamp}.png\"\n",
    "\n",
    "# Guardar imagen en carpeta \"images\"\n",
    "image.save(filename)\n",
    "print(f\"Imagen guardada como {filename}\")"
   ]
  },
  {
   "cell_type": "code",
   "execution_count": null,
   "metadata": {},
   "outputs": [],
   "source": []
  }
 ],
 "metadata": {
  "kernelspec": {
   "display_name": "Python 3 (ipykernel)",
   "language": "python",
   "name": "python3"
  },
  "language_info": {
   "codemirror_mode": {
    "name": "ipython",
    "version": 3
   },
   "file_extension": ".py",
   "mimetype": "text/x-python",
   "name": "python",
   "nbconvert_exporter": "python",
   "pygments_lexer": "ipython3",
   "version": "3.10.16"
  }
 },
 "nbformat": 4,
 "nbformat_minor": 4
}
